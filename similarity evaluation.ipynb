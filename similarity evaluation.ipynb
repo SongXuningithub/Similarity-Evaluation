{
 "cells": [
  {
   "cell_type": "code",
   "execution_count": 1,
   "metadata": {},
   "outputs": [],
   "source": [
    "import torch\n",
    "import torch.nn as nn\n",
    "from torchvision import datasets,transforms\n",
    "import torchvision.models as tvmodel\n",
    "import torch.nn.functional as F\n",
    "from torch.utils.data import DataLoader\n",
    "import os\n",
    "import cv2\n",
    "import numpy as np"
   ]
  },
  {
   "cell_type": "code",
   "execution_count": 2,
   "metadata": {},
   "outputs": [],
   "source": [
    "from DTW import *\n",
    "from image_pro import *"
   ]
  },
  {
   "cell_type": "code",
   "execution_count": 3,
   "metadata": {},
   "outputs": [],
   "source": [
    "class YOLOv1_2_resnet(nn.Module):\n",
    "    def __init__(self):\n",
    "        super(YOLOv1_2_resnet,self).__init__()\n",
    "        #resnet = tvmodel.resnet34(pretrained=True)  \n",
    "        resnet = tvmodel.resnet18(pretrained=True)\n",
    "        resnet_out_channel = resnet.fc.in_features  # 记录resnet全连接层之前的网络输出通道数，方便连入后续卷积网络中\n",
    "        self.resnet = nn.Sequential(*list(resnet.children())[:-2])  # 去除resnet的最后两层\n",
    "        # 以下是YOLOv1的最后四个卷积层\n",
    "        self.Conv_layers_1 = nn.Sequential(\n",
    "            nn.Conv2d(resnet_out_channel,256,3,padding=1),\n",
    "            nn.BatchNorm2d(256),  # 为了加快训练，这里增加了BN层，原论文里YOLOv1是没有的\n",
    "            nn.LeakyReLU(),\n",
    "            nn.Conv2d(256,256,3,stride=1,padding=1),\n",
    "            nn.BatchNorm2d(256),\n",
    "            nn.LeakyReLU(),\n",
    "            nn.Conv2d(256,128,3,stride=1,padding=1),\n",
    "            nn.BatchNorm2d(128),\n",
    "            nn.LeakyReLU(),\n",
    "            nn.Conv2d(128,48,1,stride=1,padding=0),\n",
    "            nn.BatchNorm2d(48),  #14*14\n",
    "        )\n",
    "        self.Conv_layers_2 = nn.Sequential(\n",
    "            nn.LeakyReLU(),\n",
    "            nn.Conv2d(48,128,3,stride=2,padding=1),   #7*7\n",
    "            nn.BatchNorm2d(128),\n",
    "            nn.LeakyReLU(),\n",
    "        )\n",
    "        # 以下是YOLOv1的最后2个全连接层\n",
    "        self.Conn_layers = nn.Sequential(\n",
    "            nn.Linear(7*7*128,2048),\n",
    "            nn.LeakyReLU(),\n",
    "            nn.Linear(2048,7*7*30),\n",
    "            nn.Sigmoid()  \n",
    "        )\n",
    "\n",
    "    def forward(self, input):                #训练时的前向传播函数\n",
    "        input = self.resnet(input)\n",
    "        input = self.Conv_layers_1(input)\n",
    "        input = self.Conv_layers_2(input)\n",
    "        input = input.view(input.size()[0],-1)\n",
    "        input = self.Conn_layers(input)\n",
    "        return input.reshape(-1, (5*NUM_BBOX+len(CLASSES)), 7, 7)  \n",
    "    def forward_2(self, input):               #提取特征时的前向传播函数\n",
    "        input = self.resnet(input)\n",
    "        input = self.Conv_layers_1(input)\n",
    "        return input"
   ]
  },
  {
   "cell_type": "code",
   "execution_count": 4,
   "metadata": {},
   "outputs": [],
   "source": [
    "model = torch.load(\"./models2_pkl/YOLOv1_2_epoch30.pkl\")\n",
    "model = model.cpu()"
   ]
  },
  {
   "cell_type": "code",
   "execution_count": 5,
   "metadata": {},
   "outputs": [
    {
     "name": "stdout",
     "output_type": "stream",
     "text": [
      "2158.984130859375\n"
     ]
    }
   ],
   "source": [
    "part1 = get_image_input('A1.jpg',4)\n",
    "part1 = img2tensor(part1)\n",
    "part2 = get_image_input('A2.jpg',5)\n",
    "part2 = img2tensor(part2)\n",
    "y1 = model.forward_2(part1)\n",
    "y2 = model.forward_2(part2)\n",
    "constant = DTW_2D(y1,y2).item()\n",
    "print(constant)"
   ]
  },
  {
   "cell_type": "code",
   "execution_count": 6,
   "metadata": {},
   "outputs": [
    {
     "name": "stdout",
     "output_type": "stream",
     "text": [
      "A1.jpg和A2.jpg的距离为：25.5859375\n",
      "A1.jpg和B.jpg的距离为：405.435791015625\n",
      "A1.jpg和C.jpg的距离为：532.007080078125\n",
      "A1.jpg和D.jpg的距离为：239.071044921875\n",
      "A1.jpg和E.jpg的距离为：698.514404296875\n",
      "A1.jpg和F.jpg的距离为：498.42431640625\n",
      "A1.jpg和G.jpg的距离为：917.935302734375\n",
      "A1.jpg和H.jpg的距离为：561.505859375\n"
     ]
    }
   ],
   "source": [
    "IMAGE_PATH = \"./test_images/\"\n",
    "files = os.listdir(IMAGE_PATH)\n",
    "initimg = get_image_input('A1.jpg',3)\n",
    "initimg = img2tensor(initimg)\n",
    "y1 = model.forward_2(initimg)\n",
    "for filename in files:\n",
    "    if filename == 'A1.jpg':\n",
    "        continue\n",
    "    testimg = get_image_input(filename,3)\n",
    "    testimg = img2tensor(testimg)\n",
    "    y2 = model.forward_2(testimg)\n",
    "    res = DTW_2D(y1,y2).item()\n",
    "    print('A1.jpg和'+filename+'的距离为：'+str(res-constant))"
   ]
  },
  {
   "cell_type": "code",
   "execution_count": 6,
   "metadata": {},
   "outputs": [
    {
     "name": "stdout",
     "output_type": "stream",
     "text": [
      "1077.477783203125\n",
      "01.png和02.png的距离为：224.7496337890625\n",
      "01.jpg和03.png的距离为：387.0625\n"
     ]
    }
   ],
   "source": [
    "part1 = get_image_input('01.png',4)\n",
    "part1 = img2tensor(part1)\n",
    "part2 = get_image_input('01.png',5)\n",
    "part2 = img2tensor(part2)\n",
    "y1 = model.forward_2(part1)\n",
    "y2 = model.forward_2(part2)\n",
    "constant = DTW_2D(y1,y2).item()\n",
    "print(constant)\n",
    "\n",
    "initimg = get_image_input('01.png',2)\n",
    "initimg = img2tensor(initimg)\n",
    "y1 = model.forward_2(initimg)\n",
    "\n",
    "testimg = get_image_input('02.png',2)\n",
    "testimg = img2tensor(testimg)\n",
    "y2 = model.forward_2(testimg)\n",
    "res = DTW_2D(y1,y2).item()\n",
    "print('01.png和02.png的距离为：'+str(res-constant))\n",
    "\n",
    "testimg = get_image_input('03.png',2)\n",
    "testimg = img2tensor(testimg)\n",
    "y2 = model.forward_2(testimg)\n",
    "res = DTW_2D(y1,y2).item()\n",
    "print('01.jpg和03.png的距离为：'+str(res-constant))"
   ]
  },
  {
   "cell_type": "code",
   "execution_count": null,
   "metadata": {},
   "outputs": [],
   "source": []
  }
 ],
 "metadata": {
  "kernelspec": {
   "display_name": "Python 3",
   "language": "python",
   "name": "python3"
  },
  "language_info": {
   "codemirror_mode": {
    "name": "ipython",
    "version": 3
   },
   "file_extension": ".py",
   "mimetype": "text/x-python",
   "name": "python",
   "nbconvert_exporter": "python",
   "pygments_lexer": "ipython3",
   "version": "3.6.6"
  }
 },
 "nbformat": 4,
 "nbformat_minor": 2
}
